{
 "cells": [
  {
   "cell_type": "markdown",
   "metadata": {
    "id": "view-in-github",
    "colab_type": "text"
   },
   "source": [
    "<a href=\"https://colab.research.google.com/https://caddey.ai/notebooks/langchain_caddey_integration.ipynb\" target=\"_parent\"><img src=\"https://colab.research.google.com/assets/colab-badge.svg\" alt=\"Open In Colab\"/></a>"
   ]
  },
  {
   "cell_type": "markdown",
   "metadata": {
    "id": "title"
   },
   "source": [
    "# LangChain with Caddey Integration\n",
    "\n",
    "This notebook demonstrates how to integrate Caddey tools into a LangChain Python agent using the Model Context Protocol (MCP) and OAuth 2.0 Device Code flow.\n",
    "\n",
    "## Overview\n",
    "\n",
    "Caddey exposes app features as **tools**, and LangChain agents can dynamically discover and invoke these tools via the **Model Context Protocol (MCP)**. This example uses the **OAuth 2.0 Device Code Flow**, which is ideal for **CLI-based agents** and environments where a browser redirect is not feasible.\n",
    "\n",
    "## Prerequisites\n",
    "\n",
    "- **Caddey OAuth Client ID** (create a **Public** OAuth client in Caddey)\n",
    "- **OpenAI API Key** for the LLM\n",
    "- Python packages: `langchain`, `langchain-mcp-adapters`, `openai`, `requests`, `python-dotenv`"
   ]
  },
  {
   "cell_type": "markdown",
   "metadata": {
    "id": "install"
   },
   "source": [
    "## Step 1: Install Required Packages\n",
    "\n",
    "First, let's install all the necessary Python packages."
   ]
  },
  {
   "cell_type": "code",
   "execution_count": null,
   "metadata": {
    "id": "install-packages"
   },
   "outputs": [],
   "source": [
    "!pip install -q langchain langchain-mcp-adapters langchain-openai openai requests python-dotenv"
   ]
  },
  {
   "cell_type": "markdown",
   "metadata": {
    "id": "setup-env"
   },
   "source": [
    "## Step 2: Set Up Environment Variables\n",
    "\n",
    "You'll need to provide your Caddey OAuth Client ID and OpenAI API Key. In Colab, you can use the secrets manager or set them directly."
   ]
  },
  {
   "cell_type": "code",
   "execution_count": null,
   "metadata": {
    "id": "env-vars"
   },
   "outputs": [],
   "source": [
    "import os\n",
    "from getpass import getpass\n",
    "\n",
    "# Set your Caddey OAuth Client ID\n",
    "if 'CADDEY_CLIENT_ID' not in os.environ:\n",
    "    os.environ['CADDEY_CLIENT_ID'] = getpass('Enter your Caddey OAuth Client ID: ')\n",
    "\n",
    "# Set your OpenAI API Key\n",
    "if 'OPENAI_API_KEY' not in os.environ:\n",
    "    os.environ['OPENAI_API_KEY'] = getpass('Enter your OpenAI API Key: ')\n",
    "\n",
    "print(\"✅ Environment variables set!\")"
   ]
  },
  {
   "cell_type": "markdown",
   "metadata": {
    "id": "oauth-flow"
   },
   "source": [
    "## Step 3: Authenticate with OAuth 2.0 Device Code Flow\n",
    "\n",
    "This step initiates the OAuth 2.0 Device Code Flow. You'll be prompted to visit a URL and enter a code to authenticate."
   ]
  },
  {
   "cell_type": "code",
   "execution_count": null,
   "metadata": {
    "id": "oauth-auth"
   },
   "outputs": [],
   "source": [
    "import time\n",
    "import requests\n",
    "\n",
    "# OAuth endpoints\n",
    "DEVICE_URL = \"https://auth.caddey.ai/realms/caddey/protocol/openid-connect/device\"\n",
    "TOKEN_URL = \"https://auth.caddey.ai/realms/caddey/protocol/openid-connect/token\"\n",
    "CLIENT_ID = os.getenv(\"CADDEY_CLIENT_ID\")\n",
    "\n",
    "# Request device and user codes\n",
    "device_response = requests.post(DEVICE_URL, data={\"client_id\": CLIENT_ID})\n",
    "device = device_response.json()\n",
    "\n",
    "print(\"\\n\" + \"=\"*60)\n",
    "print(\"🔐 AUTHENTICATION REQUIRED\")\n",
    "print(\"=\"*60)\n",
    "print(f\"\\n📱 To sign in, open this URL in your browser:\")\n",
    "print(f\"\\n   {device['verification_uri_complete']}\")\n",
    "print(f\"\\n   Or visit: {device['verification_uri']}\")\n",
    "print(f\"   And enter code: {device['user_code']}\")\n",
    "print(\"\\n\" + \"=\"*60)\n",
    "print(\"⏳ Waiting for authentication...\\n\")\n",
    "\n",
    "# Poll for access token\n",
    "while True:\n",
    "    token_response = requests.post(\n",
    "        TOKEN_URL,\n",
    "        data={\n",
    "            \"grant_type\": \"urn:ietf:params:oauth:grant-type:device_code\",\n",
    "            \"device_code\": device[\"device_code\"],\n",
    "            \"client_id\": CLIENT_ID,\n",
    "        },\n",
    "    )\n",
    "    token_data = token_response.json()\n",
    "    \n",
    "    if \"access_token\" in token_data:\n",
    "        CADDEY_TOKEN = token_data[\"access_token\"]\n",
    "        break\n",
    "    elif token_data.get(\"error\") == \"authorization_pending\":\n",
    "        time.sleep(device.get(\"interval\", 5))\n",
    "    else:\n",
    "        raise Exception(f\"Token error: {token_data}\")\n",
    "\n",
    "print(\"✅ Logged in successfully! Token acquired.\")"
   ]
  },
  {
   "cell_type": "markdown",
   "metadata": {
    "id": "connect-mcp"
   },
   "source": [
    "## Step 4: Connect LangChain Agent to Caddey MCP\n",
    "\n",
    "Now we'll create a LangChain agent that connects to Caddey's MCP endpoint and can invoke tools."
   ]
  },
  {
   "cell_type": "code",
   "execution_count": null,
   "metadata": {
    "id": "create-agent"
   },
   "outputs": [],
   "source": [
    "import asyncio\n",
    "from langchain_mcp_adapters.client import MultiServerMCPClient\n",
    "from langchain_openai import ChatOpenAI\n",
    "from langchain.agents import create_tool_calling_agent, AgentExecutor\n",
    "from langchain_core.prompts import ChatPromptTemplate\n",
    "\n",
    "async def create_caddey_agent():\n",
    "    # Connect to Caddey MCP endpoint\n",
    "    mcp = MultiServerMCPClient({\n",
    "        \"caddey\": {\n",
    "            \"transport\": \"streamable_http\",\n",
    "            \"url\": \"https://api.caddey.ai/mcp\",\n",
    "            \"headers\": {\"Authorization\": f\"Bearer {CADDEY_TOKEN}\"}\n",
    "        }\n",
    "    })\n",
    "\n",
    "    # Get available tools from Caddey\n",
    "    print(\"🔧 Fetching available tools from Caddey...\")\n",
    "    tools = await mcp.get_tools()\n",
    "    print(f\"✅ Found {len(tools)} tools available!\\n\")\n",
    "\n",
    "    # Create LLM\n",
    "    llm = ChatOpenAI(model=\"gpt-4o-mini\", temperature=0)\n",
    "\n",
    "    # Create prompt template\n",
    "    prompt = ChatPromptTemplate.from_messages([\n",
    "        (\"system\", \"You are a helpful assistant with access to Caddey tools. Use the available tools to help users accomplish their tasks.\"),\n",
    "        (\"human\", \"{input}\"),\n",
    "        (\"placeholder\", \"{agent_scratchpad}\"),\n",
    "    ])\n",
    "\n",
    "    # Create agent\n",
    "    agent = create_tool_calling_agent(llm, tools, prompt)\n",
    "    agent_executor = AgentExecutor(agent=agent, tools=tools, verbose=True)\n",
    "\n",
    "    return agent_executor, tools\n",
    "\n",
    "# Create the agent\n",
    "agent_executor, available_tools = await create_caddey_agent()\n",
    "print(\"🤖 LangChain agent created and ready!\")"
   ]
  },
  {
   "cell_type": "markdown",
   "metadata": {
    "id": "list-tools"
   },
   "source": [
    "## Step 5: List Available Tools\n",
    "\n",
    "Let's see what tools are available in your Caddey account."
   ]
  },
  {
   "cell_type": "code",
   "execution_count": null,
   "metadata": {
    "id": "show-tools"
   },
   "outputs": [],
   "source": [
    "print(\"📋 Available Caddey Tools:\\n\")\n",
    "print(\"=\"*60)\n",
    "for i, tool in enumerate(available_tools, 1):\n",
    "    print(f\"{i}. {tool.name}\")\n",
    "    if hasattr(tool, 'description') and tool.description:\n",
    "        print(f\"   Description: {tool.description}\")\n",
    "    print()"
   ]
  },
  {
   "cell_type": "markdown",
   "metadata": {
    "id": "use-agent"
   },
   "source": [
    "## Step 6: Use Your Agent\n",
    "\n",
    "Now you can interact with your LangChain agent using natural language prompts. The agent will automatically discover and invoke the appropriate Caddey tools based on your requests."
   ]
  },
  {
   "cell_type": "code",
   "execution_count": null,
   "metadata": {
    "id": "example-1"
   },
   "outputs": [],
   "source": [
    "result = await agent_executor.ainvoke({\n",
    "    \"input\": \"List all available tools in my Caddey account.\"\n",
    "})\n",
    "print(\"\\n\" + \"=\"*60)\n",
    "print(\"RESULT:\")\n",
    "print(\"=\"*60)\n",
    "print(result[\"output\"])"
   ]
  },
  {
   "cell_type": "markdown",
   "metadata": {
    "id": "notes"
   },
   "source": [
    "## Important Notes\n",
    "\n",
    "- The **Device Code Flow** (RFC 8628) is designed for **public clients** and works seamlessly in CLI environments without requiring a web server for OAuth callbacks.\n",
    "- Public clients do not require a client secret, making this flow ideal for devices that cannot securely store credentials.\n",
    "- For browser-based agents that can handle redirects, use the **Authorization Code Flow** instead.\n",
    "- Access tokens typically expire after 1 hour. You may need to re-run the authentication step when tokens expire.\n",
    "- Store your `CADDEY_CLIENT_ID` securely and never commit it to version control.\n",
    "\n",
    "## Additional Resources\n",
    "\n",
    "- [LangChain MCP Documentation](https://docs.langchain.com/oss/python/langchain/mcp)\n",
    "- [Authlib Documentation](https://docs.authlib.org)\n",
    "- [OAuth 2.0 Device Authorization Grant (RFC 8628)](https://datatracker.ietf.org/doc/html/rfc8628)\n",
    "- [MCP Specification](https://modelcontextprotocol.io/specification)\n",
    "- [Caddey Documentation](https://caddey.ai/docs)\n",
    "\n",
    "## Need Help?\n",
    "\n",
    "Visit the [Caddey Support Section](https://caddey.ai/support) for assistance."
   ]
  }
 ],
 "metadata": {
  "colab": {
   "name": "LangChain with Caddey Integration",
   "provenance": [],
   "collapsed_sections": []
  },
  "kernelspec": {
   "display_name": "Python 3",
   "language": "python",
   "name": "python3"
  },
  "language_info": {
   "codemirror_mode": {
    "name": "ipython",
    "version": 3
   },
   "file_extension": ".py",
   "mimetype": "text/x-python",
   "name": "python",
   "nbconvert_exporter": "python",
   "pygments_lexer": "ipython3",
   "version": "3.10.0"
  }
 },
 "nbformat": 4,
 "nbformat_minor": 0
}

