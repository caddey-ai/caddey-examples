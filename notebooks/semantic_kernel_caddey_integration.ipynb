{
 "cells": [
  {
   "cell_type": "markdown",
   "metadata": {
    "id": "view-in-github",
    "colab_type": "text"
   },
   "source": [
    "<a href=\"https://colab.research.google.com/github/caddey-ai/caddey-examples/blob/main/notebooks/semantic_kernel_caddey_integration.ipynb\" target=\"_parent\"><img src=\"https://colab.research.google.com/assets/colab-badge.svg\" alt=\"Open In Colab\"/></a>"
   ]
  },
  {
   "cell_type": "markdown",
   "metadata": {
    "id": "title"
   },
   "source": [
    "# Semantic Kernel with Caddey Integration\n",
    "\n",
    "This notebook demonstrates how to integrate Caddey tools into a Semantic Kernel agent using the Model Context Protocol (MCP) and OAuth 2.0 Device Code flow.\n",
    "\n",
    "## Overview\n",
    "\n",
    "Caddey exposes app features as **tools**, and Semantic Kernel agents can dynamically discover and invoke these tools via the **Model Context Protocol (MCP)**. This example uses the **OAuth 2.0 Device Code Flow**, ideal for **CLI-based agents** and environments where browser redirects aren't feasible.\n",
    "\n",
    "## Prerequisites\n",
    "\n",
    "- **Caddey OAuth Client ID** (create a **Public** OAuth client in Caddey)\n",
    "- **OpenAI API Key** for the LLM\n",
    "- Python packages: `semantic-kernel[mcp]`, `requests`, `python-dotenv`"
   ]
  },
  {
   "cell_type": "markdown",
   "metadata": {
    "id": "install"
   },
   "source": [
    "## Step 1: Install Required Packages\n",
    "\n",
    "First, let's install all the necessary Python packages."
   ]
  },
  {
   "cell_type": "code",
   "execution_count": null,
   "metadata": {
    "id": "install-packages"
   },
   "outputs": [],
   "source": [
    "!pip install -q semantic-kernel[mcp] requests python-dotenv openai"
   ]
  },
  {
   "cell_type": "markdown",
   "metadata": {
    "id": "setup-env"
   },
   "source": [
    "## Step 2: Set Up Environment Variables\n",
    "\n",
    "You'll need to provide your Caddey OAuth Client ID and OpenAI API Key. In Colab, you can use the secrets manager or set them directly."
   ]
  },
  {
   "cell_type": "code",
   "execution_count": null,
   "metadata": {
    "id": "env-vars"
   },
   "outputs": [],
   "source": [
    "import os\n",
    "from getpass import getpass\n",
    "\n",
    "# Set your Caddey OAuth Client ID\n",
    "if 'CADDEY_CLIENT_ID' not in os.environ:\n",
    "    os.environ['CADDEY_CLIENT_ID'] = getpass('Enter your Caddey OAuth Client ID: ')\n",
    "\n",
    "# Set your OpenAI API Key\n",
    "if 'OPENAI_API_KEY' not in os.environ:\n",
    "    os.environ['OPENAI_API_KEY'] = getpass('Enter your OpenAI API Key: ')\n",
    "\n",
    "print(\"✅ Environment variables set!\")"
   ]
  },
  {
   "cell_type": "markdown",
   "metadata": {
    "id": "public-client-warning"
   },
   "source": [
    "---\n",
    "\n",
    "### ⚠️ Important: Public Client Required\n",
    "\n",
    "The OAuth 2.0 Device Code Flow (RFC 8628) **only works with Public clients**. When creating your OAuth client in Caddey, you must select **Public** (not Confidential).\n",
    "\n",
    "**Confidential clients will receive an `unauthorized_client` error when attempting to use Device Authorization Grant.**\n",
    "\n",
    "---"
   ]
  },
  {
   "cell_type": "markdown",
   "metadata": {
    "id": "oauth-flow"
   },
   "source": [
    "## Step 3: Authenticate with OAuth 2.0 Device Code Flow\n",
    "\n",
    "This step initiates the OAuth 2.0 Device Code Flow. You'll be prompted to visit a URL and enter a code to authenticate."
   ]
  },
  {
   "cell_type": "code",
   "execution_count": null,
   "metadata": {
    "id": "oauth-auth"
   },
   "outputs": [],
   "source": [
    "import time\n",
    "import requests\n",
    "\n",
    "# OAuth endpoints\n",
    "DEVICE_URL = \"https://auth.caddey.ai/realms/caddey/protocol/openid-connect/auth/device\"\n",
    "TOKEN_URL = \"https://auth.caddey.ai/realms/caddey/protocol/openid-connect/token\"\n",
    "CLIENT_ID = os.getenv(\"CADDEY_CLIENT_ID\")\n",
    "\n",
    "# Request device and user codes\n",
    "device_response = requests.post(DEVICE_URL, data={\"client_id\": CLIENT_ID})\n",
    "device = device_response.json()\n",
    "\n",
    "print(\"\\n\" + \"=\"*60)\n",
    "print(\"🔐 AUTHENTICATION REQUIRED\")\n",
    "print(\"=\"*60)\n",
    "print(f\"\\n📱 To sign in, open this URL in your browser:\")\n",
    "print(f\"\\n   {device['verification_uri_complete']}\")\n",
    "print(f\"\\n   Or visit: {device['verification_uri']}\")\n",
    "print(f\"   And enter code: {device['user_code']}\")\n",
    "print(\"\\n\" + \"=\"*60)\n",
    "print(\"⏳ Waiting for authentication...\\n\")\n",
    "\n",
    "# Poll for access token\n",
    "while True:\n",
    "    token_response = requests.post(\n",
    "        TOKEN_URL,\n",
    "        data={\n",
    "            \"grant_type\": \"urn:ietf:params:oauth:grant-type:device_code\",\n",
    "            \"device_code\": device[\"device_code\"],\n",
    "            \"client_id\": CLIENT_ID,\n",
    "        },\n",
    "    )\n",
    "    token_data = token_response.json()\n",
    "    \n",
    "    if \"access_token\" in token_data:\n",
    "        CADDEY_TOKEN = token_data[\"access_token\"]\n",
    "        break\n",
    "    elif token_data.get(\"error\") == \"authorization_pending\":\n",
    "        time.sleep(device.get(\"interval\", 5))\n",
    "    else:\n",
    "        raise Exception(f\"Token error: {token_data}\")\n",
    "\n",
    "print(\"✅ Logged in successfully! Token acquired.\")"
   ]
  },
  {
   "cell_type": "markdown",
   "metadata": {
    "id": "connect-mcp"
   },
   "source": [
    "## Step 4: Connect Semantic Kernel to Caddey MCP\n",
    "\n",
    "Now we'll create a Semantic Kernel instance that connects to Caddey's MCP endpoint and can invoke tools."
   ]
  },
  {
   "cell_type": "code",
   "execution_count": null,
   "metadata": {
    "id": "create-kernel"
   },
   "outputs": [],
   "source": [
    "import asyncio\n",
    "from semantic_kernel import Kernel\n",
    "from semantic_kernel.connectors.mcp import MCPClient\n",
    "from semantic_kernel.connectors.ai.open_ai import OpenAIChatCompletion\n",
    "from semantic_kernel.agents import Agent\n",
    "\n",
    "async def create_caddey_kernel():\n",
    "    # Create a new Semantic Kernel instance\n",
    "    kernel = Kernel()\n",
    "\n",
    "    # Create an MCP client to connect to Caddey's MCP endpoint\n",
    "    print(\"🔧 Connecting to Caddey MCP endpoint...\")\n",
    "    mcp_client = MCPClient(\n",
    "        server_url=\"https://api.caddey.ai/mcp\",\n",
    "        transport=\"streamable_http\",\n",
    "        headers={\"Authorization\": f\"Bearer {CADDEY_TOKEN}\"},\n",
    "    )\n",
    "\n",
    "    # Connect and register Caddey MCP tools as kernel functions\n",
    "    await mcp_client.connect()\n",
    "    print(\"✅ Connected to Caddey MCP!\")\n",
    "    \n",
    "    print(\"🔧 Fetching available tools from Caddey...\")\n",
    "    caddey_tools = await mcp_client.get_tools()\n",
    "    print(f\"✅ Found {len(caddey_tools)} tools available!\\n\")\n",
    "    \n",
    "    for tool in caddey_tools:\n",
    "        kernel.add_function(tool.as_kernel_function())\n",
    "\n",
    "    # Add an OpenAI LLM\n",
    "    llm = OpenAIChatCompletion(\n",
    "        model_id=\"gpt-4o-mini\",\n",
    "        api_key=os.getenv(\"OPENAI_API_KEY\")\n",
    "    )\n",
    "    kernel.add_service(llm)\n",
    "\n",
    "    return kernel, mcp_client, caddey_tools\n",
    "\n",
    "# Create the kernel\n",
    "kernel, mcp_client, available_tools = await create_caddey_kernel()\n",
    "print(\"🤖 Semantic Kernel created and ready!\")"
   ]
  },
  {
   "cell_type": "markdown",
   "metadata": {
    "id": "list-tools"
   },
   "source": [
    "## Step 5: List Available Tools\n",
    "\n",
    "Let's see what tools are available in your Caddey account."
   ]
  },
  {
   "cell_type": "code",
   "execution_count": null,
   "metadata": {
    "id": "show-tools"
   },
   "outputs": [],
   "source": [
    "print(\"📋 Available Caddey Tools:\\n\")\n",
    "print(\"=\"*60)\n",
    "for i, tool in enumerate(available_tools, 1):\n",
    "    print(f\"{i}. {tool.name}\")\n",
    "    if hasattr(tool, 'description') and tool.description:\n",
    "        print(f\"   Description: {tool.description}\")\n",
    "    print()"
   ]
  },
  {
   "cell_type": "markdown",
   "metadata": {
    "id": "create-agent"
   },
   "source": [
    "## Step 6: Create a Semantic Kernel Agent\n",
    "\n",
    "Now let's create an agent that can use the Caddey tools."
   ]
  },
  {
   "cell_type": "code",
   "execution_count": null,
   "metadata": {
    "id": "agent-setup"
   },
   "outputs": [],
   "source": [
    "# Create a simple Semantic Kernel agent\n",
    "agent = Agent(\n",
    "    kernel=kernel,\n",
    "    name=\"CaddeyAgent\",\n",
    "    instructions=\"You are a helpful assistant with access to Caddey tools. Use the available tools to help users accomplish their tasks.\"\n",
    ")\n",
    "\n",
    "print(\"🤖 Agent created successfully!\")"
   ]
  },
  {
   "cell_type": "markdown",
   "metadata": {
    "id": "use-agent"
   },
   "source": [
    "## Step 7: Use Your Agent\n",
    "\n",
    "Now you can interact with your Semantic Kernel agent using natural language prompts. The agent will automatically discover and invoke the appropriate Caddey tools based on your requests."
   ]
  },
  {
   "cell_type": "code",
   "execution_count": null,
   "metadata": {
    "id": "example-1"
   },
   "outputs": [],
   "source": [
    "result = await agent.complete_chat(\"List all available tools in my Caddey account.\")\n",
    "print(\"\\n\" + \"=\"*60)\n",
    "print(\"RESULT:\")\n",
    "print(\"=\"*60)\n",
    "print(result)"
   ]
  },
  {
   "cell_type": "markdown",
   "metadata": {
    "id": "cleanup"
   },
   "source": [
    "## Step 8: Cleanup\n",
    "\n",
    "Don't forget to disconnect from the MCP client when you're done."
   ]
  },
  {
   "cell_type": "code",
   "execution_count": null,
   "metadata": {
    "id": "disconnect"
   },
   "outputs": [],
   "source": [
    "await mcp_client.disconnect()\n",
    "print(\"✅ Disconnected from Caddey MCP.\")"
   ]
  },
  {
   "cell_type": "markdown",
   "metadata": {
    "id": "notes"
   },
   "source": [
    "## Important Notes\n",
    "\n",
    "- The **Device Code Flow** (RFC 8628) is designed for **public clients** and works seamlessly in CLI or server environments without requiring a web server for OAuth callbacks.\n",
    "- Public clients do not require a client secret, making this flow ideal for devices that cannot securely store credentials.\n",
    "- For web-based agents that can handle redirects, use the **Authorization Code Flow** instead.\n",
    "- Access tokens typically expire after 1 hour. You may need to re-run the authentication step when tokens expire.\n",
    "- Store your `CADDEY_CLIENT_ID` securely and never commit it to version control.\n",
    "\n",
    "## Additional Resources\n",
    "\n",
    "- [Semantic Kernel MCP Documentation](https://learn.microsoft.com/en-us/semantic-kernel/concepts/plugins/adding-mcp-plugins)\n",
    "- [Authlib Documentation](https://docs.authlib.org)\n",
    "- [OAuth 2.0 Device Authorization Grant (RFC 8628)](https://datatracker.ietf.org/doc/html/rfc8628)\n",
    "- [MCP Specification](https://modelcontextprotocol.io/specification)\n",
    "- [Caddey Documentation](https://caddey.ai/docs)\n",
    "\n",
    "## Need Help?\n",
    "\n",
    "Visit the [Caddey Support Section](https://caddey.ai/support) for assistance."
   ]
  }
 ],
 "metadata": {
  "colab": {
   "name": "Semantic Kernel with Caddey Integration",
   "provenance": [],
   "collapsed_sections": []
  },
  "kernelspec": {
   "display_name": "Python 3",
   "language": "python",
   "name": "python3"
  },
  "language_info": {
   "codemirror_mode": {
    "name": "ipython",
    "version": 3
   },
   "file_extension": ".py",
   "mimetype": "text/x-python",
   "name": "python",
   "nbconvert_exporter": "python",
   "pygments_lexer": "ipython3",
   "version": "3.10.0"
  }
 },
 "nbformat": 4,
 "nbformat_minor": 0
}

